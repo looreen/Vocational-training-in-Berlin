{
 "cells": [
  {
   "cell_type": "markdown",
   "metadata": {},
   "source": [
    "Vocational training in Germany is traditional started  after 10 years of school at the age of 16 and lasts 3 years. It's organised in a dual system: Trainees spend time in school and in their training company. By this, they learn their profession both in theory and practice. \n",
    "\n",
    "For this report, we look at data from Berlin and Brandenburg. Both federal states are in the Northeast of Germany, Berlin being surrounded by Brandenburg. In terms of their demographics, both are very different: with Berlin attracting a young, urban population and Brandenburg suffering from overaging society, apart from cities like Potsdam and Frankfurt (Oder). Berlin has approx. 3.8 million inhabitants, Brandenburg 2.5 million. Data on vocational training are gathered from the [Amt fuer Statistik Berlin Brandenburg](https://www.statistik-berlin-brandenburg.de/BasisZeitreiheGrafik/Bas-Berufsbildung.asp?Ptyp=300&Sageb=21002&creg=BBB&anzwer=6), the office for statistics Berlin Brandenburg."
   ]
  },
  {
   "cell_type": "code",
   "execution_count": 73,
   "metadata": {},
   "outputs": [],
   "source": [
    "#Import Pandas and NumPy\n",
    "\n",
    "import pandas as pd\n",
    "import numpy as np"
   ]
  },
  {
   "cell_type": "code",
   "execution_count": 31,
   "metadata": {},
   "outputs": [
    {
     "data": {
      "text/html": [
       "<div>\n",
       "<style scoped>\n",
       "    .dataframe tbody tr th:only-of-type {\n",
       "        vertical-align: middle;\n",
       "    }\n",
       "\n",
       "    .dataframe tbody tr th {\n",
       "        vertical-align: top;\n",
       "    }\n",
       "\n",
       "    .dataframe thead th {\n",
       "        text-align: right;\n",
       "    }\n",
       "</style>\n",
       "<table border=\"1\" class=\"dataframe\">\n",
       "  <thead>\n",
       "    <tr style=\"text-align: right;\">\n",
       "      <th></th>\n",
       "      <th>Bundesland</th>\n",
       "      <th>Ausbildungsbereich</th>\n",
       "      <th>Geschlecht</th>\n",
       "      <th>Auszubildende Alter</th>\n",
       "      <th>2018</th>\n",
       "      <th>2017</th>\n",
       "      <th>2016</th>\n",
       "      <th>2015</th>\n",
       "      <th>2014</th>\n",
       "      <th>2013</th>\n",
       "      <th>2012</th>\n",
       "    </tr>\n",
       "  </thead>\n",
       "  <tbody>\n",
       "    <tr>\n",
       "      <th>0</th>\n",
       "      <td>Land Berlin</td>\n",
       "      <td>Industrie und Handel</td>\n",
       "      <td>männlich</td>\n",
       "      <td>15 und jünger</td>\n",
       "      <td>1</td>\n",
       "      <td>3</td>\n",
       "      <td>2</td>\n",
       "      <td>4</td>\n",
       "      <td>2</td>\n",
       "      <td>2</td>\n",
       "      <td>3</td>\n",
       "    </tr>\n",
       "    <tr>\n",
       "      <th>1</th>\n",
       "      <td>Land Berlin</td>\n",
       "      <td>Industrie und Handel</td>\n",
       "      <td>männlich</td>\n",
       "      <td>16</td>\n",
       "      <td>335</td>\n",
       "      <td>264</td>\n",
       "      <td>317</td>\n",
       "      <td>315</td>\n",
       "      <td>223</td>\n",
       "      <td>229</td>\n",
       "      <td>233</td>\n",
       "    </tr>\n",
       "    <tr>\n",
       "      <th>2</th>\n",
       "      <td>Land Berlin</td>\n",
       "      <td>Industrie und Handel</td>\n",
       "      <td>männlich</td>\n",
       "      <td>17</td>\n",
       "      <td>795</td>\n",
       "      <td>815</td>\n",
       "      <td>786</td>\n",
       "      <td>662</td>\n",
       "      <td>705</td>\n",
       "      <td>803</td>\n",
       "      <td>773</td>\n",
       "    </tr>\n",
       "    <tr>\n",
       "      <th>3</th>\n",
       "      <td>Land Berlin</td>\n",
       "      <td>Industrie und Handel</td>\n",
       "      <td>männlich</td>\n",
       "      <td>18</td>\n",
       "      <td>1504</td>\n",
       "      <td>1372</td>\n",
       "      <td>1220</td>\n",
       "      <td>1216</td>\n",
       "      <td>1305</td>\n",
       "      <td>1262</td>\n",
       "      <td>1251</td>\n",
       "    </tr>\n",
       "    <tr>\n",
       "      <th>4</th>\n",
       "      <td>Land Berlin</td>\n",
       "      <td>Industrie und Handel</td>\n",
       "      <td>männlich</td>\n",
       "      <td>19</td>\n",
       "      <td>1819</td>\n",
       "      <td>1717</td>\n",
       "      <td>1692</td>\n",
       "      <td>1796</td>\n",
       "      <td>1653</td>\n",
       "      <td>1678</td>\n",
       "      <td>1759</td>\n",
       "    </tr>\n",
       "  </tbody>\n",
       "</table>\n",
       "</div>"
      ],
      "text/plain": [
       "    Bundesland    Ausbildungsbereich Geschlecht Auszubildende Alter  2018  \\\n",
       "0  Land Berlin  Industrie und Handel   männlich       15 und jünger     1   \n",
       "1  Land Berlin  Industrie und Handel   männlich                  16   335   \n",
       "2  Land Berlin  Industrie und Handel   männlich                  17   795   \n",
       "3  Land Berlin  Industrie und Handel   männlich                  18  1504   \n",
       "4  Land Berlin  Industrie und Handel   männlich                  19  1819   \n",
       "\n",
       "   2017  2016  2015  2014  2013  2012  \n",
       "0     3     2     4     2     2     3  \n",
       "1   264   317   315   223   229   233  \n",
       "2   815   786   662   705   803   773  \n",
       "3  1372  1220  1216  1305  1262  1251  \n",
       "4  1717  1692  1796  1653  1678  1759  "
      ]
     },
     "execution_count": 31,
     "metadata": {},
     "output_type": "execute_result"
    }
   ],
   "source": [
    "#Load the data \n",
    "\n",
    "voc_training=pd.read_csv('Voc_training.csv', encoding=\"latin1\", sep=';')\n",
    "voc_training.head()"
   ]
  },
  {
   "cell_type": "code",
   "execution_count": 77,
   "metadata": {},
   "outputs": [
    {
     "data": {
      "text/plain": [
       "array(['15 und jünger', '16', '17', '18', '19', '20', '21', '22', '23',\n",
       "       '24', '25', '26', '27', '28', '29', '30', '31 und älter'],\n",
       "      dtype=object)"
      ]
     },
     "execution_count": 77,
     "metadata": {},
     "output_type": "execute_result"
    }
   ],
   "source": [
    "#Get summary statistics\n",
    "\n",
    "np.unique(voc_training['Ausbildungsbereich'])\n",
    "np.unique(voc_training['Auszubildende Alter'])"
   ]
  },
  {
   "cell_type": "markdown",
   "metadata": {},
   "source": [
    "We have data on 7 years, from 2012 to 2018, on the number of people in vocational training. Information about their location (of the school and company), the area of business, gender and age category are given. \n",
    "\n",
    "Areas of business are 'Free professions', which compromised mainly of assistents to the free professions as tax advisers, doctors and lawyers. 'Handwerk' comprises handcraft professions, 'Hauswirtschaft' translates to housekeeping, 'Agriculture' means 'Landwirtschaft', 'Oeffentlicher Dienst' to 'Administration'and 'Industrie und Handel' to 'Industry and Trade'. \n",
    "\n",
    "Age is given in categories: '15 and younge' as well as '31 and above' comprise more than one year. \n",
    "\n",
    "Gender is given only binary as male and female. The additional gender entry 'divers' is in use only after 2018. "
   ]
  },
  {
   "cell_type": "code",
   "execution_count": 32,
   "metadata": {},
   "outputs": [
    {
     "name": "stdout",
     "output_type": "stream",
     "text": [
      "Index(['Bundesland', 'Ausbildungsbereich', 'Geschlecht',\n",
      "       'Auszubildende Alter'],\n",
      "      dtype='object')\n"
     ]
    },
    {
     "data": {
      "text/html": [
       "<div>\n",
       "<style scoped>\n",
       "    .dataframe tbody tr th:only-of-type {\n",
       "        vertical-align: middle;\n",
       "    }\n",
       "\n",
       "    .dataframe tbody tr th {\n",
       "        vertical-align: top;\n",
       "    }\n",
       "\n",
       "    .dataframe thead th {\n",
       "        text-align: right;\n",
       "    }\n",
       "</style>\n",
       "<table border=\"1\" class=\"dataframe\">\n",
       "  <thead>\n",
       "    <tr style=\"text-align: right;\">\n",
       "      <th></th>\n",
       "      <th></th>\n",
       "      <th>Auszubildende Alter</th>\n",
       "      <th>Ausbildungsbereich</th>\n",
       "      <th>Bundesland</th>\n",
       "      <th>Geschlecht</th>\n",
       "      <th>Anzahl</th>\n",
       "    </tr>\n",
       "    <tr>\n",
       "      <th>id</th>\n",
       "      <th>year</th>\n",
       "      <th></th>\n",
       "      <th></th>\n",
       "      <th></th>\n",
       "      <th></th>\n",
       "      <th></th>\n",
       "    </tr>\n",
       "  </thead>\n",
       "  <tbody>\n",
       "    <tr>\n",
       "      <th>0</th>\n",
       "      <th>18</th>\n",
       "      <td>15 und jünger</td>\n",
       "      <td>Industrie und Handel</td>\n",
       "      <td>Land Berlin</td>\n",
       "      <td>männlich</td>\n",
       "      <td>1</td>\n",
       "    </tr>\n",
       "    <tr>\n",
       "      <th>1</th>\n",
       "      <th>18</th>\n",
       "      <td>16</td>\n",
       "      <td>Industrie und Handel</td>\n",
       "      <td>Land Berlin</td>\n",
       "      <td>männlich</td>\n",
       "      <td>335</td>\n",
       "    </tr>\n",
       "    <tr>\n",
       "      <th>2</th>\n",
       "      <th>18</th>\n",
       "      <td>17</td>\n",
       "      <td>Industrie und Handel</td>\n",
       "      <td>Land Berlin</td>\n",
       "      <td>männlich</td>\n",
       "      <td>795</td>\n",
       "    </tr>\n",
       "    <tr>\n",
       "      <th>3</th>\n",
       "      <th>18</th>\n",
       "      <td>18</td>\n",
       "      <td>Industrie und Handel</td>\n",
       "      <td>Land Berlin</td>\n",
       "      <td>männlich</td>\n",
       "      <td>1504</td>\n",
       "    </tr>\n",
       "    <tr>\n",
       "      <th>4</th>\n",
       "      <th>18</th>\n",
       "      <td>19</td>\n",
       "      <td>Industrie und Handel</td>\n",
       "      <td>Land Berlin</td>\n",
       "      <td>männlich</td>\n",
       "      <td>1819</td>\n",
       "    </tr>\n",
       "    <tr>\n",
       "      <th>5</th>\n",
       "      <th>18</th>\n",
       "      <td>20</td>\n",
       "      <td>Industrie und Handel</td>\n",
       "      <td>Land Berlin</td>\n",
       "      <td>männlich</td>\n",
       "      <td>1945</td>\n",
       "    </tr>\n",
       "    <tr>\n",
       "      <th>6</th>\n",
       "      <th>18</th>\n",
       "      <td>21</td>\n",
       "      <td>Industrie und Handel</td>\n",
       "      <td>Land Berlin</td>\n",
       "      <td>männlich</td>\n",
       "      <td>1805</td>\n",
       "    </tr>\n",
       "    <tr>\n",
       "      <th>7</th>\n",
       "      <th>18</th>\n",
       "      <td>22</td>\n",
       "      <td>Industrie und Handel</td>\n",
       "      <td>Land Berlin</td>\n",
       "      <td>männlich</td>\n",
       "      <td>1378</td>\n",
       "    </tr>\n",
       "    <tr>\n",
       "      <th>8</th>\n",
       "      <th>18</th>\n",
       "      <td>23</td>\n",
       "      <td>Industrie und Handel</td>\n",
       "      <td>Land Berlin</td>\n",
       "      <td>männlich</td>\n",
       "      <td>991</td>\n",
       "    </tr>\n",
       "    <tr>\n",
       "      <th>9</th>\n",
       "      <th>18</th>\n",
       "      <td>24</td>\n",
       "      <td>Industrie und Handel</td>\n",
       "      <td>Land Berlin</td>\n",
       "      <td>männlich</td>\n",
       "      <td>756</td>\n",
       "    </tr>\n",
       "  </tbody>\n",
       "</table>\n",
       "</div>"
      ],
      "text/plain": [
       "        Auszubildende Alter    Ausbildungsbereich   Bundesland Geschlecht  \\\n",
       "id year                                                                     \n",
       "0  18         15 und jünger  Industrie und Handel  Land Berlin   männlich   \n",
       "1  18                    16  Industrie und Handel  Land Berlin   männlich   \n",
       "2  18                    17  Industrie und Handel  Land Berlin   männlich   \n",
       "3  18                    18  Industrie und Handel  Land Berlin   männlich   \n",
       "4  18                    19  Industrie und Handel  Land Berlin   männlich   \n",
       "5  18                    20  Industrie und Handel  Land Berlin   männlich   \n",
       "6  18                    21  Industrie und Handel  Land Berlin   männlich   \n",
       "7  18                    22  Industrie und Handel  Land Berlin   männlich   \n",
       "8  18                    23  Industrie und Handel  Land Berlin   männlich   \n",
       "9  18                    24  Industrie und Handel  Land Berlin   männlich   \n",
       "\n",
       "        Anzahl  \n",
       "id year         \n",
       "0  18        1  \n",
       "1  18      335  \n",
       "2  18      795  \n",
       "3  18     1504  \n",
       "4  18     1819  \n",
       "5  18     1945  \n",
       "6  18     1805  \n",
       "7  18     1378  \n",
       "8  18      991  \n",
       "9  18      756  "
      ]
     },
     "execution_count": 32,
     "metadata": {},
     "output_type": "execute_result"
    }
   ],
   "source": [
    "#Transforming from wide to long format\n",
    "\n",
    "voc_training[\"id\"] = voc_training.index\n",
    "\n",
    "print(voc_training.keys()[0:4])\n",
    "\n",
    "voc_training_long=pd.wide_to_long(voc_training, stubnames=['20'], \n",
    "                                  i='id', \n",
    "                                  j='year')\n",
    "voc_training_long.head(n=10)\n",
    "\n",
    "#Renaming the '20'column to a meaningful name, 'Anzahl', which means number \n",
    "\n",
    "voc_training_long.rename(columns={'20':'Anzahl'}, inplace=True)\n",
    "voc_training_long.head(n=10)"
   ]
  },
  {
   "cell_type": "markdown",
   "metadata": {},
   "source": [
    "To tidy the data, the original dataframe is transferred from wide to long. As a next step, missing data are expressed as zero rather NA. "
   ]
  },
  {
   "cell_type": "code",
   "execution_count": 33,
   "metadata": {},
   "outputs": [
    {
     "data": {
      "text/plain": [
       "id   year\n",
       "17   18      0\n",
       "68   18      0\n",
       "85   18      0\n",
       "102  18      0\n",
       "119  18      0\n",
       "            ..\n",
       "389  12      0\n",
       "390  12      0\n",
       "391  12      0\n",
       "392  12      0\n",
       "406  12      0\n",
       "Name: Anzahl, Length: 258, dtype: object"
      ]
     },
     "execution_count": 33,
     "metadata": {},
     "output_type": "execute_result"
    }
   ],
   "source": [
    "#Change strings '-' to Zero  \n",
    "\n",
    "voc_training_long['Anzahl'].loc[voc_training_long['Anzahl']=='-']='0'\n",
    "voc_training_long['Anzahl'].loc[voc_training_long['Anzahl']=='0']"
   ]
  },
  {
   "cell_type": "markdown",
   "metadata": {},
   "source": [
    "We can now distinguish between the different years and how things changed. "
   ]
  },
  {
   "cell_type": "code",
   "execution_count": 34,
   "metadata": {},
   "outputs": [
    {
     "name": "stdout",
     "output_type": "stream",
     "text": [
      "object\n",
      "                        Anzahl\n",
      "year Bundesland               \n",
      "12   Land Berlin       44682.0\n",
      "     Land Brandenburg  30045.0\n",
      "13   Land Berlin       42030.0\n",
      "     Land Brandenburg  27338.0\n",
      "14   Land Berlin       40496.0\n",
      "     Land Brandenburg  26265.0\n",
      "15   Land Berlin       39342.0\n",
      "     Land Brandenburg  26017.0\n",
      "16   Land Berlin       38633.0\n",
      "     Land Brandenburg  25876.0\n",
      "17   Land Berlin       38432.0\n",
      "     Land Brandenburg  25946.0\n",
      "18   Land Berlin       38649.0\n",
      "     Land Brandenburg  26159.0\n"
     ]
    }
   ],
   "source": [
    "#Cast to numeric \n",
    "\n",
    "print(voc_training_long['Anzahl'].dtype)\n",
    "voc_training_long=voc_training_long.astype({'Anzahl': 'float'})\n",
    "\n",
    "summed_up_people=voc_training_long.groupby(['year', 'Bundesland'])[['Anzahl']].sum()\n",
    "print(summed_up_people)"
   ]
  },
  {
   "cell_type": "code",
   "execution_count": 37,
   "metadata": {},
   "outputs": [
    {
     "name": "stdout",
     "output_type": "stream",
     "text": [
      "    level_0  index  year   Bundesland   Anzahl\n",
      "0         0      0    12  Land Berlin  44682.0\n",
      "2         2      2    13  Land Berlin  42030.0\n",
      "4         4      4    14  Land Berlin  40496.0\n",
      "6         6      6    15  Land Berlin  39342.0\n",
      "8         8      8    16  Land Berlin  38633.0\n",
      "10       10     10    17  Land Berlin  38432.0\n",
      "12       12     12    18  Land Berlin  38649.0\n"
     ]
    }
   ],
   "source": [
    "#Create a subset that is only containing data from Berlin \n",
    "summed_up_people=summed_up_people.reset_index()\n",
    "summed_up_people_berlin=summed_up_people.loc[summed_up_people['Bundesland']=='Land Berlin']\n",
    "summed_up_people_brb=summed_up_people.loc[summed_up_people['Bundesland']=='Land Brandenburg']\n",
    "\n",
    "print(summed_up_people_berlin)"
   ]
  },
  {
   "cell_type": "code",
   "execution_count": 38,
   "metadata": {},
   "outputs": [
    {
     "data": {
      "image/png": "[encoded data removed]",
      "text/plain": [
       "<Figure size 432x288 with 1 Axes>"
      ]
     },
     "metadata": {
      "needs_background": "light"
     },
     "output_type": "display_data"
    }
   ],
   "source": [
    "# Create a chart that compares number of vocational training numbers in both regions \n",
    "\n",
    "import numpy as np\n",
    "import matplotlib.pyplot as plt\n",
    "\n",
    "#Set a bar width\n",
    "bar_width=0.35\n",
    "\n",
    "#Create bar charts for the different Bundeslaender\n",
    "rectangle_berlin=plt.bar(summed_up_people_berlin['year'],\n",
    "                        summed_up_people_berlin['Anzahl'], \n",
    "                        bar_width, \n",
    "                         color='b',\n",
    "                        label='Berlin', \n",
    "                        alpha=0.5)\n",
    "\n",
    "rectangle_brb=plt.bar(summed_up_people_brb['year']+bar_width,\n",
    "                        summed_up_people_brb['Anzahl'], \n",
    "                        bar_width, \n",
    "                      color='r', \n",
    "                        label='Brandenburg', \n",
    "                        alpha=0.5)\n",
    "\n",
    "# Add additional line plots to show trend\n",
    "plt.plot(summed_up_people_berlin['year']+bar_width/2, summed_up_people_berlin['Anzahl'], color='darkblue', marker='o', \n",
    "        label='_nolegend_')\n",
    "plt.plot(summed_up_people_brb['year']+bar_width/2, summed_up_people_brb['Anzahl'], color='darkred', marker='o', \n",
    "        label='_nolegend_')\n",
    "\n",
    "#Adjust the x axis labels \n",
    "plt.xticks(summed_up_people_brb['year'] + bar_width / 2, ('2012', '2013', '2014', '2015', '2016', '2017', '2018'))\n",
    "plt.yticks([10000, 20000, 30000, 40000], ('10k', '20k', '30k', '40k'))\n",
    "\n",
    "#Show the plot \n",
    "plt.legend()\n",
    "plt.tight_layout()\n",
    "plt.title('Number of people in vocational training in Berlin and Brandenburg')\n",
    "plt.show()"
   ]
  },
  {
   "cell_type": "code",
   "execution_count": 39,
   "metadata": {},
   "outputs": [
    {
     "data": {
      "text/html": [
       "<div>\n",
       "<style scoped>\n",
       "    .dataframe tbody tr th:only-of-type {\n",
       "        vertical-align: middle;\n",
       "    }\n",
       "\n",
       "    .dataframe tbody tr th {\n",
       "        vertical-align: top;\n",
       "    }\n",
       "\n",
       "    .dataframe thead th {\n",
       "        text-align: right;\n",
       "    }\n",
       "</style>\n",
       "<table border=\"1\" class=\"dataframe\">\n",
       "  <thead>\n",
       "    <tr style=\"text-align: right;\">\n",
       "      <th></th>\n",
       "      <th>Geschlecht</th>\n",
       "      <th>Auszubildende Alter</th>\n",
       "      <th>Anzahl</th>\n",
       "    </tr>\n",
       "  </thead>\n",
       "  <tbody>\n",
       "    <tr>\n",
       "      <th>0</th>\n",
       "      <td>männlich</td>\n",
       "      <td>15 und jünger</td>\n",
       "      <td>44.0</td>\n",
       "    </tr>\n",
       "    <tr>\n",
       "      <th>1</th>\n",
       "      <td>männlich</td>\n",
       "      <td>16</td>\n",
       "      <td>8986.0</td>\n",
       "    </tr>\n",
       "    <tr>\n",
       "      <th>2</th>\n",
       "      <td>männlich</td>\n",
       "      <td>17</td>\n",
       "      <td>23760.0</td>\n",
       "    </tr>\n",
       "    <tr>\n",
       "      <th>3</th>\n",
       "      <td>männlich</td>\n",
       "      <td>18</td>\n",
       "      <td>35347.0</td>\n",
       "    </tr>\n",
       "    <tr>\n",
       "      <th>4</th>\n",
       "      <td>männlich</td>\n",
       "      <td>19</td>\n",
       "      <td>40840.0</td>\n",
       "    </tr>\n",
       "  </tbody>\n",
       "</table>\n",
       "</div>"
      ],
      "text/plain": [
       "  Geschlecht Auszubildende Alter   Anzahl\n",
       "0   männlich       15 und jünger     44.0\n",
       "1   männlich                  16   8986.0\n",
       "2   männlich                  17  23760.0\n",
       "3   männlich                  18  35347.0\n",
       "4   männlich                  19  40840.0"
      ]
     },
     "execution_count": 39,
     "metadata": {},
     "output_type": "execute_result"
    }
   ],
   "source": [
    "#Show differences between sexes and type of vocational training \n",
    "\n",
    "numbers_by_sex_and_age=voc_training_long.groupby(['Geschlecht', 'Auszubildende Alter'])[['Anzahl']].sum()\n",
    "\n",
    "numbers_by_sex_and_age=numbers_by_sex_and_age.reset_index()\n",
    "\n",
    "numbers_by_sex_and_age.head()"
   ]
  },
  {
   "cell_type": "code",
   "execution_count": 78,
   "metadata": {},
   "outputs": [
    {
     "data": {
      "image/png": "[encoded data removed]",
      "text/plain": [
       "<Figure size 432x288 with 1 Axes>"
      ]
     },
     "metadata": {
      "needs_background": "light"
     },
     "output_type": "display_data"
    }
   ],
   "source": [
    "# Compare the age of men and women in the data \n",
    "\n",
    "plt.plot(numbers_by_sex_and_age[numbers_by_sex_and_age['Geschlecht']=='männlich']['Auszubildende Alter'], \n",
    "        numbers_by_sex_and_age[numbers_by_sex_and_age['Geschlecht']=='männlich']['Anzahl'], \n",
    "        color='orange', marker='o', label='Men')\n",
    "\n",
    "plt.plot(numbers_by_sex_and_age[numbers_by_sex_and_age['Geschlecht']=='weiblich']['Auszubildende Alter'], \n",
    "        numbers_by_sex_and_age[numbers_by_sex_and_age['Geschlecht']=='weiblich']['Anzahl'], \n",
    "        color='green', marker='o', label='Women')\n",
    "plt.title('Age of people in vocational training')\n",
    "plt.legend()\n",
    "\n",
    "plt.show()"
   ]
  },
  {
   "cell_type": "markdown",
   "metadata": {},
   "source": [
    "This particular graph leads to double counting: We are summarizing across years. Someone who started his vocational training in 2014 as 16 year old, counts in 2015 as 17 year old and in 2016 as 18 years old and would then most likely drop out of the statistic as the training is finished. From the original database, numbers on the year of traineeship are available. It would be useful to consider this information and to filter down for the first year of training for example. This would lead to better understanding of when a training is started and would clearly avoid the problem of double counting. "
   ]
  },
  {
   "cell_type": "code",
   "execution_count": 92,
   "metadata": {},
   "outputs": [
    {
     "data": {
      "image/png": "[encoded data removed]",
      "text/plain": [
       "<Figure size 432x288 with 1 Axes>"
      ]
     },
     "metadata": {
      "needs_background": "light"
     },
     "output_type": "display_data"
    }
   ],
   "source": [
    "#voc_training_long=voc_training_long.reset_index()\n",
    "area_gender=voc_training_long.loc[voc_training_long['year']==18]\n",
    "area_gender=area_gender.groupby(['Ausbildungsbereich', 'Geschlecht'])[['Anzahl']].sum()\n",
    "area_gender.head()\n",
    "\n",
    "area_gender=area_gender.reset_index()\n",
    "area_gender.head()\n",
    "\n",
    "#Unique values in 'Geschlecht'column and their indices on first occurence \n",
    "labels, index = np.unique(area_gender[\"Geschlecht\"], return_inverse=True)\n",
    "\n",
    "fig, ax = plt.subplots()\n",
    "sc = ax.scatter(area_gender['Anzahl'], area_gender['Ausbildungsbereich'], marker = 'o', c = index, alpha = 0.8, s=200)\n",
    "ax.legend(sc.legend_elements()[0], ['Men', 'Women'])\n",
    "plt.xticks([0, 5000, 10000, 15000, 20000, 25000], ('0', '5k', '10k', '15k', '20k', '25k'))\n",
    "plt.title('What type of vocational training are men and women doing? (2018)')\n",
    "plt.show()\n"
   ]
  },
  {
   "cell_type": "code",
   "execution_count": null,
   "metadata": {},
   "outputs": [],
   "source": []
  }
 ],
 "metadata": {
  "kernelspec": {
   "display_name": "Python 3",
   "language": "python",
   "name": "python3"
  },
  "language_info": {
   "codemirror_mode": {
    "name": "ipython",
    "version": 3
   },
   "file_extension": ".py",
   "mimetype": "text/x-python",
   "name": "python",
   "nbconvert_exporter": "python",
   "pygments_lexer": "ipython3",
   "version": "3.7.6"
  }
 },
 "nbformat": 4,
 "nbformat_minor": 2
}
